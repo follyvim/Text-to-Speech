{
 "cells": [
  {
   "cell_type": "code",
   "execution_count": 1,
   "id": "bec10e69-6fbc-4415-bea0-550e87f45467",
   "metadata": {},
   "outputs": [],
   "source": [
    "import selenium\n",
    "import time\n",
    "from selenium import webdriver\n",
    "from selenium.webdriver.support.ui import WebDriverWait\n",
    "from selenium.webdriver.common.keys import Keys\n",
    "import pandas as pd\n",
    "from selenium.common.exceptions import NoSuchElementException\n",
    "import warnings\n",
    "import gtts\n",
    "from playsound import playsound\n",
    "import pyttsx3\n",
    "warnings.filterwarnings('ignore')"
   ]
  },
  {
   "cell_type": "code",
   "execution_count": 2,
   "id": "1b2023c1-347f-42be-91a1-aae9a89eaad6",
   "metadata": {},
   "outputs": [],
   "source": [
    "path = r\"C:\\Users\\folas\\Downloads\\Dataset\\selenium\\chromedriver.exe\"\n",
    "driver = webdriver.Chrome(path)\n",
    "driver.get(\"https://www.google.com/\")\n",
    "time.sleep(2)\n",
    "sear= driver.find_element_by_xpath('/html/body/div[1]/div[3]/form/div[1]/div[1]/div[1]/div/div[2]/input')"
   ]
  },
  {
   "cell_type": "code",
   "execution_count": 3,
   "id": "6e48d3a4-204a-4a88-9e92-316d7b79663f",
   "metadata": {},
   "outputs": [
    {
     "name": "stdin",
     "output_type": "stream",
     "text": [
      "Lolo: you need an information\n",
      " yes\n",
      "Lolo: what information do you need?\n",
      " what is rice\n"
     ]
    }
   ],
   "source": [
    "Name = 'Lolo'\n",
    "question =input(f'{Name}: you need an information\\n')\n",
    "if question.lower() == 'yes':\n",
    "    ask = input(f'{Name}: what information do you need?\\n')\n",
    "else:\n",
    "    question.lower() == 'no'\n",
    "    print (f'{Name}: nice having you around')\n",
    "\n"
   ]
  },
  {
   "cell_type": "code",
   "execution_count": 4,
   "id": "a9b5ac37-3cdb-4697-ae2e-ceafa09b0b9b",
   "metadata": {},
   "outputs": [
    {
     "name": "stdout",
     "output_type": "stream",
     "text": [
      "Rice is the seed of the grass species Oryza sativa or less commonly Oryza glaberrima. The name wild rice is usually used for species of the genera Zizania and Porteresia, both wild and domesticated, although the term may also be used for primitive or uncultivated varieties of Oryza.\n"
     ]
    }
   ],
   "source": [
    "search= driver.find_element_by_xpath('/html/body/div[1]/div[3]/form/div[1]/div[1]/div[1]/div/div[2]/input')\n",
    "time.sleep(3)\n",
    "text = ask\n",
    "search.send_keys(text)\n",
    "search.send_keys(Keys.ENTER)\n",
    "time.sleep(2)\n",
    "\n",
    "words =['//*[@id=\"kp-wp-tab-overview\"]/div[1]/div/div/div/div/div/div[1]/div/div/div/span[1]']\n",
    "for word in words:\n",
    "    try:\n",
    "        word_var = driver.find_element_by_xpath(word)\n",
    "        time.sleep(2)\n",
    "        word_var= word_var.text\n",
    "        print (word_var)\n",
    "    except(NoSuchElementException):\n",
    "        print ('No information Found')"
   ]
  },
  {
   "cell_type": "code",
   "execution_count": 5,
   "id": "0f337022-8e78-4ec4-bdd8-fbe06a139d9a",
   "metadata": {},
   "outputs": [],
   "source": [
    "engine = pyttsx3.init()\n",
    "speak = word_var\n",
    "engine.say(speak)\n",
    "engine.runAndWait()"
   ]
  }
 ],
 "metadata": {
  "kernelspec": {
   "display_name": "Python 3",
   "language": "python",
   "name": "python3"
  },
  "language_info": {
   "codemirror_mode": {
    "name": "ipython",
    "version": 3
   },
   "file_extension": ".py",
   "mimetype": "text/x-python",
   "name": "python",
   "nbconvert_exporter": "python",
   "pygments_lexer": "ipython3",
   "version": "3.8.8"
  }
 },
 "nbformat": 4,
 "nbformat_minor": 5
}
